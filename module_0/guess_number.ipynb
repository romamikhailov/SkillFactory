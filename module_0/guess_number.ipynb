{
 "cells": [
  {
   "cell_type": "code",
   "execution_count": 4,
   "metadata": {},
   "outputs": [
    {
     "name": "stdout",
     "output_type": "stream",
     "text": [
      "Ваш алгоритм угадывает число в среднем за 10 попыток\n"
     ]
    },
    {
     "data": {
      "text/plain": [
       "10"
      ]
     },
     "execution_count": 4,
     "metadata": {},
     "output_type": "execute_result"
    }
   ],
   "source": [
    "import numpy as np\n",
    " \n",
    "low = 1        # generator lower bound\n",
    "high = 101     # generator upper bound\n",
    "number = np.random.randint(low, high)    # hidden number\n",
    "\n",
    "def game_core_adv(number):\n",
    "    \"\"\"The function takes a hidden number \n",
    "    and returns the number of attempts\"\"\"\n",
    "    count = 1\n",
    "    predict = (low + high)//2\n",
    "    while number != predict:\n",
    "        if number > predict:\n",
    "            count +=1\n",
    "            mean = (high + predict)//2\n",
    "            if number > mean:\n",
    "                predict = mean\n",
    "            else:\n",
    "                predict += 1\n",
    "        elif number < predict: \n",
    "            count+=1\n",
    "            mean = (low + predict)//2\n",
    "            if number < mean:\n",
    "                predict = mean\n",
    "            else:\n",
    "                predict -= 1\n",
    "                \n",
    "    return(count) # exit the loop if guessed right\n",
    "\n",
    "def score_game(game_core):\n",
    "    \"\"\"Run the game 1000 times to find out how quickly \n",
    "    the game guesses the number\"\"\"\n",
    "    count_ls = []\n",
    "    np.random.seed(1)  # fixing RANDOM SEED to make experiment reproducible!\n",
    "    random_array = np.random.randint(low, high, size=(1000))\n",
    "    for number in random_array:\n",
    "        count_ls.append(game_core(number))  # write the result to the list\n",
    "    score = int(np.mean(count_ls))    # find the average value of attempts\n",
    "    print(f\"Ваш алгоритм угадывает число в среднем за {score} попыток\")\n",
    "    \n",
    "    return(score)\n",
    "\n",
    "score_game(game_core_adv)"
   ]
  },
  {
   "cell_type": "code",
   "execution_count": null,
   "metadata": {},
   "outputs": [],
   "source": []
  }
 ],
 "metadata": {
  "kernelspec": {
   "display_name": "Python 3",
   "language": "python",
   "name": "python3"
  },
  "language_info": {
   "codemirror_mode": {
    "name": "ipython",
    "version": 3
   },
   "file_extension": ".py",
   "mimetype": "text/x-python",
   "name": "python",
   "nbconvert_exporter": "python",
   "pygments_lexer": "ipython3",
   "version": "3.8.5"
  }
 },
 "nbformat": 4,
 "nbformat_minor": 4
}
